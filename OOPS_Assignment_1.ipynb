{
 "cells": [
  {
   "cell_type": "markdown",
   "id": "f3485504-e7cb-4c9c-bb04-77672df2f689",
   "metadata": {},
   "source": [
    "Q1. Explain Class and Object with respect to Object-Oriented Programming. Give a suitable example."
   ]
  },
  {
   "cell_type": "code",
   "execution_count": 4,
   "id": "731fd363-479d-4c4f-bc88-8330db49cd4f",
   "metadata": {},
   "outputs": [],
   "source": [
    "# A class is considered as a blueprint of objects. Think of the class as a sketch (prototype) of a house. It contains all the details about the floors, doors, windows, etc. Based on these descriptions we build the house. House is the object.\n",
    "# An object is called an instance of a class. \n",
    "\n",
    "class Name():  # \"Name\" is the class\n",
    "    pass\n",
    "\n",
    "obj_name = Name()   # \"obj_name\" is the object"
   ]
  },
  {
   "cell_type": "code",
   "execution_count": null,
   "id": "780cadc4-95b6-479f-a1cb-6ecf13241d1c",
   "metadata": {},
   "outputs": [],
   "source": []
  },
  {
   "cell_type": "markdown",
   "id": "6db51998-6241-47a9-88d7-f1c250870e36",
   "metadata": {},
   "source": [
    "Q2. Name the four pillars of OOPs."
   ]
  },
  {
   "cell_type": "markdown",
   "id": "db2508ae-6b4f-4568-a827-a3ce04cf846d",
   "metadata": {},
   "source": [
    "Ans : abstraction, encapsulation, inheritance, and polymorphism"
   ]
  },
  {
   "cell_type": "code",
   "execution_count": null,
   "id": "9cfe2637-cfc0-4118-aec5-a6e67ce7df24",
   "metadata": {},
   "outputs": [],
   "source": []
  },
  {
   "cell_type": "markdown",
   "id": "cb844849-2936-4d54-bd0a-320e44cb9a09",
   "metadata": {},
   "source": [
    "Q3. Explain why the __init__() function is used. Give a suitable example."
   ]
  },
  {
   "cell_type": "code",
   "execution_count": 5,
   "id": "900461d9-3695-4bdc-8a16-16950e7e8de1",
   "metadata": {},
   "outputs": [],
   "source": [
    "# __init__ method is like default constructor. Constructors are used to initialize the object’s state.\n",
    "class Name:\n",
    "    def __init__(self):\n",
    "        pass"
   ]
  },
  {
   "cell_type": "code",
   "execution_count": null,
   "id": "b5bc8ffa-e0bd-4951-bd5c-ee67abe5c030",
   "metadata": {},
   "outputs": [],
   "source": []
  },
  {
   "cell_type": "markdown",
   "id": "6f2ead47-f724-47ae-9478-6548934a5e9c",
   "metadata": {},
   "source": [
    "Q4. Why self is used in OOPs?"
   ]
  },
  {
   "cell_type": "markdown",
   "id": "0b1ae82c-d942-4e52-968a-aded8d270464",
   "metadata": {},
   "source": [
    "The self is used to represent the instance of the class. With this keyword, you can access the attributes and methods of the class in python"
   ]
  },
  {
   "cell_type": "code",
   "execution_count": null,
   "id": "f0e34b02-a405-4c40-8522-26a3c24397de",
   "metadata": {},
   "outputs": [],
   "source": []
  },
  {
   "cell_type": "markdown",
   "id": "2f70ba16-c371-4269-8e7b-65bda60abf23",
   "metadata": {},
   "source": [
    "Q5. What is inheritance? Give an example for each type of inheritance."
   ]
  },
  {
   "cell_type": "code",
   "execution_count": null,
   "id": "9d1078c2-3a41-4b73-9a54-28f738f228f6",
   "metadata": {},
   "outputs": [],
   "source": [
    "# Inheritance is defined as the mechanism of inheriting the properties of the base class to the child class.\n",
    "class Parent():\n",
    "    def __init__(self):\n",
    "        print (\"this is parent class\")\n",
    "        \n",
    "class child(Parent):\n",
    "    def __init__(self):\n",
    "        print()"
   ]
  }
 ],
 "metadata": {
  "kernelspec": {
   "display_name": "Python 3 (ipykernel)",
   "language": "python",
   "name": "python3"
  },
  "language_info": {
   "codemirror_mode": {
    "name": "ipython",
    "version": 3
   },
   "file_extension": ".py",
   "mimetype": "text/x-python",
   "name": "python",
   "nbconvert_exporter": "python",
   "pygments_lexer": "ipython3",
   "version": "3.10.8"
  }
 },
 "nbformat": 4,
 "nbformat_minor": 5
}
